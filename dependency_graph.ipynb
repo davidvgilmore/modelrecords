{
 "cells": [
  {
   "cell_type": "code",
   "execution_count": 7,
   "metadata": {},
   "outputs": [
    {
     "name": "stdout",
     "output_type": "stream",
     "text": [
      "Vicuna-13B\n",
      "Llama 2 13B\n"
     ]
    }
   ],
   "source": [
    "from modelrecords.repository import Repository\n",
    "\n",
    "repo = Repository()\n",
    "mr = repo.load_model_record_from_repository('vicuna_13b')\n",
    "\n",
    "geneology = {\n",
    "\n",
    "}\n",
    "for rel in mr.upstream_relations():\n",
    "    parent = repo.load_model_record_from_repository(rel)\n",
    "    print(parent.model_name)"
   ]
  },
  {
   "cell_type": "code",
   "execution_count": null,
   "metadata": {},
   "outputs": [],
   "source": []
  }
 ],
 "metadata": {
  "kernelspec": {
   "display_name": "modelrecords",
   "language": "python",
   "name": "python3"
  },
  "language_info": {
   "codemirror_mode": {
    "name": "ipython",
    "version": 3
   },
   "file_extension": ".py",
   "mimetype": "text/x-python",
   "name": "python",
   "nbconvert_exporter": "python",
   "pygments_lexer": "ipython3",
   "version": "3.12.3"
  }
 },
 "nbformat": 4,
 "nbformat_minor": 2
}
