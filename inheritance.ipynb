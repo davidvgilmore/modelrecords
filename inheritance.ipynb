{
 "cells": [
  {
   "cell_type": "code",
   "execution_count": 13,
   "metadata": {},
   "outputs": [
    {
     "data": {
      "text/plain": [
       "[('FMTI - 2023', 'FMTI -- Llama 2 7B: Your score is 54')]"
      ]
     },
     "execution_count": 13,
     "metadata": {},
     "output_type": "execute_result"
    }
   ],
   "source": [
    "from planecards.repository import Repository\n",
    "from planecards.plane_card import PlaneCardModel\n",
    "repo_yml = Repository().load_plane_card_yaml('llama2-7b-1.0.0')\n",
    "pc = PlaneCardModel(repo_yml)\n",
    "pc.parse()\n",
    "pc.results()"
   ]
  }
 ],
 "metadata": {
  "kernelspec": {
   "display_name": "planecards",
   "language": "python",
   "name": "python3"
  },
  "language_info": {
   "codemirror_mode": {
    "name": "ipython",
    "version": 3
   },
   "file_extension": ".py",
   "mimetype": "text/x-python",
   "name": "python",
   "nbconvert_exporter": "python",
   "pygments_lexer": "ipython3",
   "version": "3.12.2"
  }
 },
 "nbformat": 4,
 "nbformat_minor": 2
}
