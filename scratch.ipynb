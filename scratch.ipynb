{
 "cells": [
  {
   "cell_type": "code",
   "execution_count": 1,
   "metadata": {},
   "outputs": [
    {
     "data": {
      "text/plain": [
       "{'question_answers': {'ckpt_path': 'model.ckpt',\n",
       "  'model_type': 'pytorch',\n",
       "  'model_size': '400M',\n",
       "  'redteam': False,\n",
       "  'model_name': 'TacoNet',\n",
       "  'data_sources': None},\n",
       " 'question_sets': ['fmti2023']}"
      ]
     },
     "execution_count": 1,
     "metadata": {},
     "output_type": "execute_result"
    }
   ],
   "source": [
    "import yaml\n",
    "\n",
    "\n",
    "yaml.safe_load(open('cards/test.yml', 'rb'))"
   ]
  },
  {
   "cell_type": "code",
   "execution_count": 1,
   "metadata": {},
   "outputs": [],
   "source": [
    "a= 23"
   ]
  },
  {
   "cell_type": "code",
   "execution_count": 1,
   "metadata": {},
   "outputs": [
    {
     "data": {
      "text/plain": [
       "(4, 21, '*')"
      ]
     },
     "execution_count": 1,
     "metadata": {},
     "output_type": "execute_result"
    }
   ],
   "source": [
    "str = \"12*4\"\n",
    "stack = []\n",
    "operands = []\n",
    "\n",
    "cumulant = 0\n",
    "brace_open = False\n",
    "for chr in str:\n",
    "    num = 0\n",
    "    if chr.isdigit():\n",
    "        stack.append(int(chr))\n",
    "    else:\n",
    "        # operator\n",
    "        stack.append(chr)\n",
    "\n",
    "left = 0\n",
    "right = 0\n",
    "op = None\n",
    "while len(stack) > 0:\n",
    "    x = stack.pop()\n",
    "    if type(x) == int:\n",
    "        if op is None:\n",
    "            left = left * 10\n",
    "            left += int(x)\n",
    "        else:\n",
    "            right = right * 10\n",
    "            right += int(x)\n",
    "    else:\n",
    "        op = x\n",
    "\n",
    "left, right, op"
   ]
  },
  {
   "cell_type": "markdown",
   "metadata": {},
   "source": []
  },
  {
   "cell_type": "code",
   "execution_count": 20,
   "metadata": {},
   "outputs": [
    {
     "name": "stdout",
     "output_type": "stream",
     "text": [
      "cards/llama2.yaml\n",
      "[('FMTI - 2023', 'FMTI -- None: Your score is 54')]\n",
      "cards/palm2.yaml\n",
      "[('FMTI - 2023', 'FMTI -- None: Your score is 40')]\n",
      "cards/claude2.yaml\n",
      "[('FMTI - 2023', 'FMTI -- None: Your score is 36')]\n",
      "cards/jurassic2.yaml\n",
      "[('FMTI - 2023', 'FMTI -- Jurassic2: Your score is 25')]\n",
      "cards/command.yaml\n",
      "[('FMTI - 2023', 'FMTI -- None: Your score is 34')]\n",
      "cards/stable_diffusion_2.yaml\n",
      "[('FMTI - 2023', 'FMTI -- None: Your score is 47')]\n",
      "cards/titan_next.yaml\n",
      "[('FMTI - 2023', 'FMTI -- None: Your score is 12')]\n",
      "cards/gpt4.yaml\n",
      "[('FMTI - 2023', 'FMTI -- None: Your score is 48')]\n",
      "cards/bloomz.yaml\n",
      "[('FMTI - 2023', 'FMTI -- None: Your score is 53')]\n",
      "cards/inflection1.yaml\n",
      "[('FMTI - 2023', 'FMTI -- None: Your score is 21')]\n"
     ]
    }
   ],
   "source": [
    "import yaml\n",
    "from planecards.plane_card import PlaneCard\n",
    "for fname in os.listdir('cards'):\n",
    "    if fname == 'test.yml':\n",
    "        continue\n",
    "    path = f'cards/{fname}'\n",
    "    print(path)\n",
    "    yml = yaml.safe_load(open(path, 'rb'))\n",
    "    pc = PlaneCard(yml)\n",
    "    pc.parse()\n",
    "    print(pc.results())"
   ]
  },
  {
   "cell_type": "code",
   "execution_count": 1,
   "metadata": {},
   "outputs": [
    {
     "name": "stdout",
     "output_type": "stream",
     "text": [
      "cards/gpt4.yaml\n",
      "[('FMTI - 2023', 'FMTI -- None: Your score is 48')]\n"
     ]
    }
   ],
   "source": [
    "import yaml\n",
    "from planecards.plane_card import PlaneCard\n",
    "path = f'cards/gpt4.yaml'\n",
    "print(path)\n",
    "yml = yaml.safe_load(open(path, 'rb'))\n",
    "pc = PlaneCard(yml)\n",
    "pc.parse()\n",
    "print(pc.results())"
   ]
  },
  {
   "cell_type": "code",
   "execution_count": 5,
   "metadata": {},
   "outputs": [
    {
     "data": {
      "text/plain": [
       "{'upstream_additional_dependencies': 0,\n",
       " 'upstream_broader_environmental_impact': 0,\n",
       " 'upstream_carbon_emissions': 0,\n",
       " 'upstream_compute_hardware': 0,\n",
       " 'upstream_compute_usage': 0,\n",
       " 'upstream_core_frameworks': 0,\n",
       " 'upstream_data_augmentation': 0,\n",
       " 'upstream_copyrighted_data': 0,\n",
       " 'upstream_data_creators': 0,\n",
       " 'upstream_data_curation': 1,\n",
       " 'upstream_data_license_status': 0,\n",
       " 'upstream_data_size': 0,\n",
       " 'upstream_data_source_selection': 0,\n",
       " 'upstream_data_sources': 0,\n",
       " 'upstream_development_duration': 0,\n",
       " 'upstream_direct_external_data_access': 0,\n",
       " 'upstream_employment_of_data_laborers': 0,\n",
       " 'upstream_energy_usage': 0,\n",
       " 'upstream_geographic_distribution_of_data_laborers': 0,\n",
       " 'upstream_hardware_owner': 1,\n",
       " 'upstream_harmful_data_filtration': 1,\n",
       " 'upstream_instructions_for_creating_data': 0,\n",
       " 'upstream_labor_protections': 1,\n",
       " 'upstream_mitigations_for_copyright': 0,\n",
       " 'upstream_mitigations_for_privacy': 1,\n",
       " 'upstream_model_objectives': 1,\n",
       " 'upstream_model_stages': 1,\n",
       " 'upstream_personal_information_in_data': 0,\n",
       " 'upstream_queryable_external_data_access': 0,\n",
       " 'upstream_third_party_partners': 0,\n",
       " 'upstream_use_of_human_labor': 0,\n",
       " 'upstream_wages': 0,\n",
       " 'downstream': None,\n",
       " 'model': None,\n",
       " 'metadata_name': 'GPT-4',\n",
       " 'metadata_spec_urls': ['https://cdn.openai.com/papers/gpt-4-system-card.pdf'],\n",
       " 'metadata_description': 'Generative Pre-trained Transformer 4 (GPT-4) is a multimodal large  language model created by OpenAI, and the fourth in its series of GPT foundation models.\\n',\n",
       " 'downstream_affected_individuals': 0,\n",
       " 'downstream_affected_market_sectors': 0,\n",
       " 'model_blackbox_external_model_access': 1,\n",
       " 'model_capabilities_demonstration': 1,\n",
       " 'model_capabilities_description': 1,\n",
       " 'downstream_centralized_documentation_for_downstream_use': 1,\n",
       " 'model_centralized_model_documentation': 1,\n",
       " 'downstream_change_log': 1,\n",
       " 'downstream_deprecation_policy': 1,\n",
       " 'downstream_distribution_channels': 1,\n",
       " 'downstream_documentation_for_responsible_downstream_use': 1,\n",
       " 'downstream_downstream_applications': 0,\n",
       " 'model_evaluation_of_capabilities': 1,\n",
       " 'model_external_model_access_protocol': 1,\n",
       " 'model_external_reproducibility_of_capabilities_evaluation': 1,\n",
       " 'model_external_reproducibility_of_intentional_harm_evaluation': 1,\n",
       " 'model_external_reproducibility_of_mitigations_evaluation': 0,\n",
       " 'model_external_reproducibility_of_trustworthiness_evaluation': 0,\n",
       " 'model_external_reproducibility_of_unintentional_harm_evaluation': 0,\n",
       " 'downstream_feedback_mechanism': 1,\n",
       " 'downstream_feedback_summary': 0,\n",
       " 'model_full_external_model_access': 0,\n",
       " 'downstream_geographic_statistics': 0,\n",
       " 'downstream_government_inquiries': 0,\n",
       " 'model_inference_compute_evaluation': 0,\n",
       " 'model_inference_duration_evaluation': 0,\n",
       " 'model_input_modality': 1,\n",
       " 'model_intentional_harm_evaluation': 0,\n",
       " 'downstream_interoperability_of_usage_and_model_behavior_policies': 1,\n",
       " 'downstream_justification_for_enforcement_action': 0,\n",
       " 'model_limitations_demonstration': 0,\n",
       " 'model_limitations_description': 1,\n",
       " 'downstream_detection_of_machine_generated_content': 0,\n",
       " 'model_mitigations_demonstration': 1,\n",
       " 'model_mitigations_description': 1,\n",
       " 'model_mitigations_evaluation': 1,\n",
       " 'model_model_architecture': 0,\n",
       " 'model_asset_license': 0,\n",
       " 'downstream_model_behavior_policy_enforcement': 0,\n",
       " 'model_model_components': 0,\n",
       " 'model_model_size': 0,\n",
       " 'downstream_monitoring_mechanism': 1,\n",
       " 'model_output_modality': 1,\n",
       " 'downstream_permitted_restricted_and_prohibited_model_behaviors': 1,\n",
       " 'downstream_permitted_restricted_and_prohibited_uses': 1,\n",
       " 'downstream_permitted_and_prohibited_use_of_user_data': 1,\n",
       " 'downstream_permitted_and_prohibited_users': 1,\n",
       " 'downstream_products_and_services': 1,\n",
       " 'downstream_redress_mechanism': 0,\n",
       " 'downstream_release_decision_making_protocol': 0,\n",
       " 'downstream_release_process': 1,\n",
       " 'model_risks_demonstration': 1,\n",
       " 'model_risks_description': 1,\n",
       " 'downstream_terms_of_service': 1,\n",
       " 'model_third_party_capabilities_evaluation': 1,\n",
       " 'model_third_party_evaluation_of_limitations': 1,\n",
       " 'model_third_party_mitigations_evaluation': 0,\n",
       " 'model_third_party_risks_evaluation': 1,\n",
       " 'model_trustworthiness_evaluation': 1,\n",
       " 'model_unintentional_harm_evaluation': 0,\n",
       " 'downstream_usage_data_access_protocol': 0,\n",
       " 'downstream_usage_disclaimers': 1,\n",
       " 'downstream_usage_policy_enforcement': 1,\n",
       " 'downstream_usage_policy_violation_appeals_mechanism': 1,\n",
       " 'downstream_usage_reports': 0,\n",
       " 'downstream_user_data_protection_policy': 1,\n",
       " 'downstream_user_interaction_with_ai_system': 1,\n",
       " 'downstream_versioning_protocol': 1}"
      ]
     },
     "execution_count": 5,
     "metadata": {},
     "output_type": "execute_result"
    }
   ],
   "source": []
  },
  {
   "cell_type": "code",
   "execution_count": 14,
   "metadata": {},
   "outputs": [],
   "source": [
    "import os\n",
    "for fname in os.listdir('cards'):\n",
    "    if fname not in ['jurassic2.yaml', 'gpt4.yaml']:\n",
    "        path = f'cards/{fname}'\n",
    "        with open(path, 'r') as f:\n",
    "            yml = ''.join(f.readlines())\n",
    "            for key in remap.keys():\n",
    "                yml = yml.replace(f' {key}', f' {remap[key]}')\n",
    "        with open(path, 'w') as f:\n",
    "            f.write(yml)"
   ]
  }
 ],
 "metadata": {
  "kernelspec": {
   "display_name": "planecards",
   "language": "python",
   "name": "python3"
  },
  "language_info": {
   "codemirror_mode": {
    "name": "ipython",
    "version": 3
   },
   "file_extension": ".py",
   "mimetype": "text/x-python",
   "name": "python",
   "nbconvert_exporter": "python",
   "pygments_lexer": "ipython3",
   "version": "3.12.2"
  }
 },
 "nbformat": 4,
 "nbformat_minor": 2
}
