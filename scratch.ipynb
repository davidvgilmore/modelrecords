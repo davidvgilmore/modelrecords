{
 "cells": [
  {
   "cell_type": "code",
   "execution_count": 1,
   "metadata": {},
   "outputs": [
    {
     "data": {
      "text/plain": [
       "{'question_answers': {'ckpt_path': 'model.ckpt',\n",
       "  'model_type': 'pytorch',\n",
       "  'model_size': '400M',\n",
       "  'redteam': False,\n",
       "  'model_name': 'TacoNet',\n",
       "  'data_sources': None},\n",
       " 'question_sets': ['fmti2023']}"
      ]
     },
     "execution_count": 1,
     "metadata": {},
     "output_type": "execute_result"
    }
   ],
   "source": [
    "import yaml\n",
    "\n",
    "\n",
    "yaml.safe_load(open('cards/test.yml', 'rb'))"
   ]
  },
  {
   "cell_type": "code",
   "execution_count": 1,
   "metadata": {},
   "outputs": [],
   "source": [
    "a= 23"
   ]
  },
  {
   "cell_type": "code",
   "execution_count": 1,
   "metadata": {},
   "outputs": [
    {
     "data": {
      "text/plain": [
       "(4, 21, '*')"
      ]
     },
     "execution_count": 1,
     "metadata": {},
     "output_type": "execute_result"
    }
   ],
   "source": [
    "str = \"12*4\"\n",
    "stack = []\n",
    "operands = []\n",
    "\n",
    "cumulant = 0\n",
    "brace_open = False\n",
    "for chr in str:\n",
    "    num = 0\n",
    "    if chr.isdigit():\n",
    "        stack.append(int(chr))\n",
    "    else:\n",
    "        # operator\n",
    "        stack.append(chr)\n",
    "\n",
    "left = 0\n",
    "right = 0\n",
    "op = None\n",
    "while len(stack) > 0:\n",
    "    x = stack.pop()\n",
    "    if type(x) == int:\n",
    "        if op is None:\n",
    "            left = left * 10\n",
    "            left += int(x)\n",
    "        else:\n",
    "            right = right * 10\n",
    "            right += int(x)\n",
    "    else:\n",
    "        op = x\n",
    "\n",
    "left, right, op"
   ]
  },
  {
   "cell_type": "markdown",
   "metadata": {},
   "source": []
  },
  {
   "cell_type": "code",
   "execution_count": 20,
   "metadata": {},
   "outputs": [
    {
     "name": "stdout",
     "output_type": "stream",
     "text": [
      "cards/llama2.yaml\n",
      "[('FMTI - 2023', 'FMTI -- None: Your score is 54')]\n",
      "cards/palm2.yaml\n",
      "[('FMTI - 2023', 'FMTI -- None: Your score is 40')]\n",
      "cards/claude2.yaml\n",
      "[('FMTI - 2023', 'FMTI -- None: Your score is 36')]\n",
      "cards/jurassic2.yaml\n",
      "[('FMTI - 2023', 'FMTI -- Jurassic2: Your score is 25')]\n",
      "cards/command.yaml\n",
      "[('FMTI - 2023', 'FMTI -- None: Your score is 34')]\n",
      "cards/stable_diffusion_2.yaml\n",
      "[('FMTI - 2023', 'FMTI -- None: Your score is 47')]\n",
      "cards/titan_next.yaml\n",
      "[('FMTI - 2023', 'FMTI -- None: Your score is 12')]\n",
      "cards/gpt4.yaml\n",
      "[('FMTI - 2023', 'FMTI -- None: Your score is 48')]\n",
      "cards/bloomz.yaml\n",
      "[('FMTI - 2023', 'FMTI -- None: Your score is 53')]\n",
      "cards/inflection1.yaml\n",
      "[('FMTI - 2023', 'FMTI -- None: Your score is 21')]\n"
     ]
    }
   ],
   "source": [
    "import yaml\n",
    "from planecards.plane_card import PlaneCard\n",
    "for fname in os.listdir('cards'):\n",
    "    if fname == 'test.yml':\n",
    "        continue\n",
    "    path = f'cards/{fname}'\n",
    "    print(path)\n",
    "    yml = yaml.safe_load(open(path, 'rb'))\n",
    "    pc = PlaneCard(yml)\n",
    "    pc.parse()\n",
    "    print(pc.results())"
   ]
  },
  {
   "cell_type": "code",
   "execution_count": 14,
   "metadata": {},
   "outputs": [],
   "source": [
    "import os\n",
    "for fname in os.listdir('cards'):\n",
    "    if fname not in ['jurassic2.yaml', 'gpt4.yaml']:\n",
    "        path = f'cards/{fname}'\n",
    "        with open(path, 'r') as f:\n",
    "            yml = ''.join(f.readlines())\n",
    "            for key in remap.keys():\n",
    "                yml = yml.replace(f' {key}', f' {remap[key]}')\n",
    "        with open(path, 'w') as f:\n",
    "            f.write(yml)"
   ]
  }
 ],
 "metadata": {
  "kernelspec": {
   "display_name": "planecards",
   "language": "python",
   "name": "python3"
  },
  "language_info": {
   "codemirror_mode": {
    "name": "ipython",
    "version": 3
   },
   "file_extension": ".py",
   "mimetype": "text/x-python",
   "name": "python",
   "nbconvert_exporter": "python",
   "pygments_lexer": "ipython3",
   "version": "3.12.2"
  }
 },
 "nbformat": 4,
 "nbformat_minor": 2
}
