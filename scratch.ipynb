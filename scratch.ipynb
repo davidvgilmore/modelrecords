{
 "cells": [
  {
   "cell_type": "markdown",
   "metadata": {},
   "source": []
  },
  {
   "cell_type": "code",
   "execution_count": 2,
   "metadata": {},
   "outputs": [
    {
     "data": {
      "text/plain": [
       "{'pc': {'metadata': {'name': 'Llama 2 7B', 'version': '1.0.0'}, 'tags': ['opensource'], 'question_sets': ['fmti2023'], 'relations': {'upstream': ['llama2>=1.0.0']}, 'model': {'blackbox_external_model_access': 1, 'capabilities_demonstration': 1, 'capabilities_description': 0, 'centralized_model_documentation': 1, 'evaluation_of_capabilities': 1, 'external_model_access_protocol': 1, 'external_reproducibility_of_capabilities_evaluation': 1, 'external_reproducibility_of_intentional_harm_evaluation': 0, 'external_reproducibility_of_mitigations_evaluation': 0, 'external_reproducibility_of_trustworthiness_evaluation': 0, 'external_reproducibility_of_unintentional_harm_evaluation': 1, 'full_external_model_access': 1, 'inference_compute_evaluation': 0, 'inference_duration_evaluation': 1, 'input_modality': 1, 'intentional_harm_evaluation': 0, 'limitations_demonstration': 0, 'limitations_description': 1, 'mitigations_demonstration': 1, 'mitigations_description': 1, 'mitigations_evaluation': 1, 'model_architecture': 1, 'asset_license': 1, 'model_components': 1, 'model_size': 1, 'output_modality': 1, 'risks_demonstration': 1, 'risks_description': 1, 'third_party_capabilities_evaluation': 0, 'third_party_evaluation_of_limitations': 1, 'third_party_mitigations_evaluation': 0, 'third_party_risks_evaluation': 0, 'trustworthiness_evaluation': 0, 'unintentional_harm_evaluation': 1}, 'upstream': {'additional_dependencies': 1, 'broader_environmental_impact': 0, 'carbon_emissions': 1, 'compute_hardware': 0, 'compute_usage': 0, 'core_frameworks': 0, 'data_augmentation': 1, 'copyrighted_data': 0, 'data_creators': 0, 'data_curation': 1, 'data_license_status': 0, 'data_size': 1, 'data_source_selection': 0, 'data_sources': 0, 'development_duration': 1, 'direct_external_data_access': 0, 'employment_of_data_laborers': 0, 'energy_usage': 1, 'geographic_distribution_of_data_laborers': 0, 'hardware_owner': 1, 'harmful_data_filtration': 1, 'instructions_for_creating_data': 1, 'labor_protections': 0, 'mitigations_for_copyright': 0, 'mitigations_for_privacy': 1, 'model_objectives': 1, 'model_stages': 1, 'personal_information_in_data': 0, 'queryable_external_data_access': 0, 'third_party_partners': 0, 'use_of_human_labor': 1, 'wages': 0}, 'downstream': {'affected_individuals': 0, 'affected_market_sectors': 0, 'centralized_documentation_for_downstream_use': 1, 'change_log': 1, 'deprecation_policy': 1, 'distribution_channels': 1, 'documentation_for_responsible_downstream_use': 1, 'downstream_applications': 1, 'feedback_mechanism': 1, 'feedback_summary': 0, 'geographic_statistics': 0, 'government_inquiries': 0, 'interoperability_of_usage_and_model_behavior_policies': 0, 'justification_for_enforcement_action': 0, 'detection_of_machine_generated_content': 0, 'model_behavior_policy_enforcement': 0, 'monitoring_mechanism': 0, 'permitted_restricted_and_prohibited_model_behaviors': 0, 'permitted_restricted_and_prohibited_uses': 1, 'permitted_and_prohibited_use_of_user_data': 1, 'permitted_and_prohibited_users': 1, 'products_and_services': 1, 'redress_mechanism': 0, 'release_decision_making_protocol': 0, 'release_process': 1, 'terms_of_service': 1, 'usage_data_access_protocol': 0, 'usage_disclaimers': 1, 'usage_policy_enforcement': 0, 'usage_policy_violation_appeals_mechanism': 0, 'usage_reports': 0, 'user_data_protection_policy': 1, 'user_interaction_with_ai_system': 1, 'versioning_protocol': 1}}}"
      ]
     },
     "execution_count": 2,
     "metadata": {},
     "output_type": "execute_result"
    }
   ],
   "source": [
    "from planecards.repository import Repository\n",
    "from planecards.plane_card import PlaneCardModel\n",
    "repo_yml = Repository().load_plane_card_yaml('llama2-7b-1.0.0')\n",
    "pc = PlaneCardModel(repo_yml)\n",
    "pc.parse()\n",
    "pc.results()\n",
    "repo_yml\n",
    "\n",
    "\n"
   ]
  },
  {
   "cell_type": "code",
   "execution_count": null,
   "metadata": {},
   "outputs": [],
   "source": []
  },
  {
   "cell_type": "code",
   "execution_count": 3,
   "metadata": {},
   "outputs": [
    {
     "name": "stdout",
     "output_type": "stream",
     "text": [
      "[('FMTI - 2023', 'FMTI -- Llama 2 7B: Your score is 54')]\n"
     ]
    },
    {
     "name": "stderr",
     "output_type": "stream",
     "text": [
      "sh: pdflatex: command not found\n"
     ]
    }
   ],
   "source": [
    "import yaml\n",
    "import os\n",
    "from planecards.plane_card import PlaneCardModel\n",
    "from planecards.card_document_renderer import CardDocumentRenderer\n",
    "\n",
    "print(pc.results())\n",
    "cdr = CardDocumentRenderer(pc)\n",
    "cdr.save_pdf()"
   ]
  },
  {
   "cell_type": "code",
   "execution_count": null,
   "metadata": {},
   "outputs": [
    {
     "ename": "ImportError",
     "evalue": "cannot import name 'PlaneCard' from 'planecards.plane_card' (/Users/lebensold/Projects/planecards-cli/planecards/plane_card.py)",
     "output_type": "error",
     "traceback": [
      "\u001b[0;31m---------------------------------------------------------------------------\u001b[0m",
      "\u001b[0;31mImportError\u001b[0m                               Traceback (most recent call last)",
      "Cell \u001b[0;32mIn[1], line 3\u001b[0m\n\u001b[1;32m      1\u001b[0m \u001b[38;5;28;01mimport\u001b[39;00m \u001b[38;5;21;01myaml\u001b[39;00m\n\u001b[1;32m      2\u001b[0m \u001b[38;5;28;01mimport\u001b[39;00m \u001b[38;5;21;01mos\u001b[39;00m\n\u001b[0;32m----> 3\u001b[0m \u001b[38;5;28;01mfrom\u001b[39;00m \u001b[38;5;21;01mplanecards\u001b[39;00m\u001b[38;5;21;01m.\u001b[39;00m\u001b[38;5;21;01mplane_card\u001b[39;00m \u001b[38;5;28;01mimport\u001b[39;00m PlaneCard\n\u001b[1;32m      4\u001b[0m \u001b[38;5;28;01mfor\u001b[39;00m fname \u001b[38;5;129;01min\u001b[39;00m os\u001b[38;5;241m.\u001b[39mlistdir(\u001b[38;5;124m'\u001b[39m\u001b[38;5;124mcards\u001b[39m\u001b[38;5;124m'\u001b[39m):\n\u001b[1;32m      5\u001b[0m     path \u001b[38;5;241m=\u001b[39m \u001b[38;5;124mf\u001b[39m\u001b[38;5;124m'\u001b[39m\u001b[38;5;124mcards/\u001b[39m\u001b[38;5;132;01m{\u001b[39;00mfname\u001b[38;5;132;01m}\u001b[39;00m\u001b[38;5;124m'\u001b[39m\n",
      "\u001b[0;31mImportError\u001b[0m: cannot import name 'PlaneCard' from 'planecards.plane_card' (/Users/lebensold/Projects/planecards-cli/planecards/plane_card.py)"
     ]
    }
   ],
   "source": [
    "import yaml\n",
    "import os\n",
    "from planecards.plane_card import PlaneCard\n",
    "for fname in os.listdir('cards'):\n",
    "    path = f'cards/{fname}'\n",
    "    print(path)\n",
    "    yml = yaml.safe_load(open(path, 'rb'))\n",
    "    pc = PlaneCard(yml)\n",
    "    pc.parse()\n",
    "    print(pc.results())"
   ]
  },
  {
   "cell_type": "code",
   "execution_count": null,
   "metadata": {},
   "outputs": [],
   "source": [
    "import os\n",
    "for fname in os.listdir('cards'):\n",
    "    if fname not in ['jurassic2.yaml', 'gpt4.yaml']:\n",
    "        path = f'cards/{fname}'\n",
    "        with open(path, 'r') as f:\n",
    "            yml = ''.join(f.readlines())\n",
    "            for key in remap.keys():\n",
    "                yml = yml.replace(f' {key}', f' {remap[key]}')\n",
    "        with open(path, 'w') as f:\n",
    "            f.write(yml)"
   ]
  }
 ],
 "metadata": {
  "kernelspec": {
   "display_name": "planecards",
   "language": "python",
   "name": "python3"
  },
  "language_info": {
   "codemirror_mode": {
    "name": "ipython",
    "version": 3
   },
   "file_extension": ".py",
   "mimetype": "text/x-python",
   "name": "python",
   "nbconvert_exporter": "python",
   "pygments_lexer": "ipython3",
   "version": "3.12.2"
  }
 },
 "nbformat": 4,
 "nbformat_minor": 2
}
