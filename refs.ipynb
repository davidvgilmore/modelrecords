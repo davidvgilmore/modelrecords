{
 "cells": [
  {
   "cell_type": "code",
   "execution_count": 1,
   "metadata": {},
   "outputs": [
    {
     "data": {
      "text/plain": [
       "['repository/_refs/vicuna_13b-1.0.0/000.html.txt']"
      ]
     },
     "execution_count": 1,
     "metadata": {},
     "output_type": "execute_result"
    }
   ],
   "source": [
    "from modelrecords.repository import Repository\n",
    "from modelrecords.card_parser import Parser\n",
    "\n",
    "pkg = 'llama2-1.0.0'\n",
    "pkg = 'bloomz-1.0.0'\n",
    "pkg = 'claude2-1.0.0'\n",
    "pkg = 'vicuna-1.0.0'\n",
    "pkg = 'vicuna_13b-1.0.0'\n",
    "repository = Repository()\n",
    "paths = repository.download_and_process_refs(pkg)\n",
    "paths"
   ]
  },
  {
   "cell_type": "code",
   "execution_count": 2,
   "metadata": {},
   "outputs": [],
   "source": [
    "#paths.append('repository/_refs/palm2-1.0.0/001.md.txt')"
   ]
  },
  {
   "cell_type": "code",
   "execution_count": 2,
   "metadata": {},
   "outputs": [
    {
     "data": {
      "text/plain": [
       "['repository/_refs/vicuna_13b-1.0.0/000.html.txt']"
      ]
     },
     "execution_count": 2,
     "metadata": {},
     "output_type": "execute_result"
    }
   ],
   "source": [
    "paths"
   ]
  },
  {
   "cell_type": "code",
   "execution_count": 3,
   "metadata": {},
   "outputs": [],
   "source": [
    "parser = Parser()\n",
    "parser.parse_with_gpt(paths)\n",
    "repository.update_card_attrs(pkg, parser.answers)"
   ]
  },
  {
   "cell_type": "code",
   "execution_count": 4,
   "metadata": {},
   "outputs": [
    {
     "data": {
      "text/plain": [
       "{'mr.metadata.name': 'Vicuna-13B',\n",
       " 'mr.metadata.version': '13B',\n",
       " 'mr.metadata.publisher': 'LMSYS Org',\n",
       " 'mr.metadata.model_type': 'Chatbot',\n",
       " 'mr.metadata.release_date': '2023-03-30',\n",
       " 'mr.upstream.intended_use': ['Research and academic purposes to advance the field of natural language processing and chatbot design.',\n",
       "  'Developers and enthusiasts to explore chatbot technologies and implement in non-commercial projects.',\n",
       "  'Educational institutions for teaching concepts related to AI and chatbots.',\n",
       "  'Non-profit organizations to enhance their customer support or engagement through chatbots.',\n",
       "  'Open-source community contribution and improvement.'],\n",
       " 'mr.upstream.factors': ['Performance comparison with other models like ChatGPT and Google Bard.',\n",
       "  'Cost-effectiveness of training the model.',\n",
       "  'Accessibility of the model for non-commercial use.',\n",
       "  'Potential for the community to contribute to model improvement.',\n",
       "  'Ease of integration into existing systems for developers.'],\n",
       " 'mr.upstream.evaluation_data': ['70K user-shared ChatGPT conversations were used for fine-tuning.',\n",
       "  'GPT-4 used for preliminary evaluation to benchmark against ChatGPT and Google Bard.',\n",
       "  'Responses compared for detailed and well-structured answers.',\n",
       "  'Eight question categories devised to assess various aspects of chatbot performance.',\n",
       "  'Comparison based on helpfulness, relevance, accuracy, and detail of responses.'],\n",
       " 'mr.upstream.training_data': ['Approximately 70K user-shared conversations gathered from ShareGPT.com.',\n",
       "  'HTML content converted back to markdown to filter and maintain data quality.',\n",
       "  \"Lengthy conversations divided into smaller segments to fit model's maximum context length.\",\n",
       "  'Dataset expanded to ensure Vicuna understands long context.',\n",
       "  'Innovations such as gradient checkpointing and flash attention applied to manage GPU memory requirements efficiently.'],\n",
       " 'mr.upstream.additional_information': ['Vicuna is an open-source project with its code and weights available on GitHub.',\n",
       "  \"The model is designed for non-commercial use, adhering to LLaMA model license and OpenAI's data usage policies.\",\n",
       "  'The cost of training Vicuna-13B was around $300.',\n",
       "  'The team acknowledges the need for further rigorous evaluation of the model.',\n",
       "  'Community engagement and contributions are encouraged for continued improvement of Vicuna.'],\n",
       " 'mr.upstream.recommendations': ['Use Vicuna-13B for experimental and research purposes to explore limitations and potential improvements.',\n",
       "  'Consider the ethical implications of deploying chatbots and adhere to fair use policies.',\n",
       "  'Because Vicuna is open-source, contributions such as bug fixes, feature enhancements, and training on diverse datasets are recommended.',\n",
       "  'Engage with the development community through discussions, sharing use cases, and providing feedback.',\n",
       "  \"Stay informed about future updates and versions by following the project's official communication channels.\"],\n",
       " 'mr.upstream.ethical_considerations': ['Ensure the model does not generate harmful or biased content by incorporating adequate safety measures.',\n",
       "  \"Be transparent about the model's capabilities and limitations to users and stakeholders.\",\n",
       "  'Consider the environmental impact of training large models and strive for more energy-efficient methodologies.',\n",
       "  'Respect user privacy and data protection laws, especially when dealing with conversation data.',\n",
       "  'Regularly review and update the model and its usage policies to address evolving ethical standards and societal expectations.']}"
      ]
     },
     "execution_count": 4,
     "metadata": {},
     "output_type": "execute_result"
    }
   ],
   "source": [
    "parser.answers"
   ]
  }
 ],
 "metadata": {
  "kernelspec": {
   "display_name": "ModelRecords",
   "language": "python",
   "name": "python3"
  },
  "language_info": {
   "codemirror_mode": {
    "name": "ipython",
    "version": 3
   },
   "file_extension": ".py",
   "mimetype": "text/x-python",
   "name": "python",
   "nbconvert_exporter": "python",
   "pygments_lexer": "ipython3",
   "version": "3.12.3"
  }
 },
 "nbformat": 4,
 "nbformat_minor": 2
}
