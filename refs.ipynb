{
 "cells": [
  {
   "cell_type": "code",
   "execution_count": 3,
   "metadata": {},
   "outputs": [
    {
     "data": {
      "text/plain": [
       "['repository/_refs/palm2-1.0.0/000.pdf.txt']"
      ]
     },
     "execution_count": 3,
     "metadata": {},
     "output_type": "execute_result"
    }
   ],
   "source": [
    "from planecards.repository import Repository\n",
    "from planecards.card_parser import Parser\n",
    "\n",
    "pkg = 'llama2-1.0.0'\n",
    "pkg = 'bloomz-1.0.0'\n",
    "pkg = 'claude2-1.0.0'\n",
    "pkg = 'palm2-1.0.0'\n",
    "repository = Repository()\n",
    "paths = repository.download_and_process_refs(pkg)\n",
    "paths"
   ]
  },
  {
   "cell_type": "code",
   "execution_count": 4,
   "metadata": {},
   "outputs": [],
   "source": [
    "#paths.append('repository/_refs/palm2-1.0.0/001.md.txt')"
   ]
  },
  {
   "cell_type": "code",
   "execution_count": 5,
   "metadata": {},
   "outputs": [
    {
     "data": {
      "text/plain": [
       "['repository/_refs/palm2-1.0.0/000.pdf.txt',\n",
       " 'repository/_refs/palm2-1.0.0/001.md.txt']"
      ]
     },
     "execution_count": 5,
     "metadata": {},
     "output_type": "execute_result"
    }
   ],
   "source": [
    "paths"
   ]
  },
  {
   "cell_type": "code",
   "execution_count": 2,
   "metadata": {},
   "outputs": [],
   "source": [
    "parser = Parser()\n",
    "parser.parse_with_gpt(paths)\n",
    "repository.update_card_attrs(pkg, parser.answers)"
   ]
  }
 ],
 "metadata": {
  "kernelspec": {
   "display_name": "planecards",
   "language": "python",
   "name": "python3"
  },
  "language_info": {
   "codemirror_mode": {
    "name": "ipython",
    "version": 3
   },
   "file_extension": ".py",
   "mimetype": "text/x-python",
   "name": "python",
   "nbconvert_exporter": "python",
   "pygments_lexer": "ipython3",
   "version": "3.12.2"
  }
 },
 "nbformat": 4,
 "nbformat_minor": 2
}
